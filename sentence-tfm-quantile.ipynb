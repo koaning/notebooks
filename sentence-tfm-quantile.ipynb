{
 "cells": [
  {
   "cell_type": "code",
   "execution_count": 23,
   "id": "9fcf0a3e-ae77-454c-9a7d-7931b4b6a8a2",
   "metadata": {},
   "outputs": [
    {
     "name": "stdout",
     "output_type": "stream",
     "text": [
      "similarities: tensor([[ 0.4510,  0.2982, -0.0929,  0.0698]])\n"
     ]
    }
   ],
   "source": [
    "from sentence_transformers import SentenceTransformer\n",
    "from sentence_transformers.util import cos_sim\n",
    "from sentence_transformers.quantization import quantize_embeddings\n",
    "\n",
    "# 1. Specify preffered dimensions\n",
    "dimensions = 512\n",
    "\n",
    "# 2. load model\n",
    "model = SentenceTransformer(\"all-MiniLM-L6-v2\", truncate_dim=dimensions)\n",
    "\n",
    "# For retrieval you need to pass this prompt.\n",
    "query = 'Represent this sentence for searching relevant passages: A man is eating a piece of bread'\n",
    "\n",
    "docs = [\n",
    "    query,\n",
    "    \"A man is eating food.\",\n",
    "    \"A man is eating pasta.\",\n",
    "    \"The girl is carrying a baby.\",\n",
    "    \"A man is riding a horse.\",\n",
    "]\n",
    "\n",
    "# 2. Encode\n",
    "embeddings = model.encode(docs)\n",
    "\n",
    "# Optional: Quantize the embeddings\n",
    "binary_embeddings = quantize_embeddings(embeddings, precision=\"ubinary\")\n",
    "\n",
    "similarities = cos_sim(embeddings[0], embeddings[1:])\n",
    "print('similarities:', similarities)\n"
   ]
  },
  {
   "cell_type": "code",
   "execution_count": 30,
   "id": "5f96d763-930a-4427-aecb-889a328111fd",
   "metadata": {},
   "outputs": [
    {
     "data": {
      "text/plain": [
       "48"
      ]
     },
     "execution_count": 30,
     "metadata": {},
     "output_type": "execute_result"
    }
   ],
   "source": [
    "binary_embeddings[0].nbytes"
   ]
  },
  {
   "cell_type": "code",
   "execution_count": 70,
   "id": "b92a8246-8db9-4749-82fb-8308468b5dba",
   "metadata": {},
   "outputs": [
    {
     "name": "stdout",
     "output_type": "stream",
     "text": [
      "260\n",
      "234\n",
      "177\n",
      "205\n"
     ]
    }
   ],
   "source": [
    "import numpy as np\n",
    "\n",
    "for i in [1, 2, 3, 4]:\n",
    "    print((np.unpackbits(binary_embeddings[0]) == np.unpackbits(binary_embeddings[i])).sum())"
   ]
  },
  {
   "cell_type": "markdown",
   "id": "63d87206-a34b-45a0-8b78-e351bfab6473",
   "metadata": {},
   "source": [
    "We can unpack these bits via the `unpackbits` method ... sure ... but we can also use `%` directly. Even in numba!"
   ]
  },
  {
   "cell_type": "code",
   "execution_count": 78,
   "id": "e0da6967-c68b-4622-a85c-9af1ad94e8de",
   "metadata": {},
   "outputs": [],
   "source": [
    "import numba\n",
    "\n",
    "@numba.jit(fastmath=True)\n",
    "def sparse_overlap(x, y):\n",
    "    count = 0\n",
    "    for mod in range(8):\n",
    "        xi = x % 2**(mod + 1) // 2**mod\n",
    "        yi = y % 2**(mod + 1) // 2**mod\n",
    "        for i in range(x.shape[0]):\n",
    "            count += (xi[i] == yi[i])\n",
    "    return count"
   ]
  },
  {
   "cell_type": "code",
   "execution_count": 85,
   "id": "6f6ea179-2067-4cc4-b80f-b7ac4563902c",
   "metadata": {},
   "outputs": [
    {
     "name": "stdout",
     "output_type": "stream",
     "text": [
      "260\n",
      "234\n",
      "177\n",
      "205\n"
     ]
    }
   ],
   "source": [
    "for i in [1, 2, 3, 4]:\n",
    "    print(sparse_overlap(binary_embeddings[0], binary_embeddings[i]))"
   ]
  },
  {
   "cell_type": "code",
   "execution_count": 86,
   "id": "7a0d65fe-4f67-4945-bbea-805ef2267020",
   "metadata": {},
   "outputs": [
    {
     "name": "stdout",
     "output_type": "stream",
     "text": [
      "260\n",
      "234\n",
      "177\n",
      "205\n"
     ]
    }
   ],
   "source": [
    "for i in [1, 2, 3, 4]:\n",
    "    main = np.array([binary_embeddings[0] % 2**(m+1) // 2**m for m in range(8)])\n",
    "    other = np.array([binary_embeddings[i] % 2**(m+1) // 2**m for m in range(8)])\n",
    "    print((main == other).sum())"
   ]
  },
  {
   "cell_type": "markdown",
   "id": "80364d53-e969-482a-b936-b10d81a21088",
   "metadata": {},
   "source": [
    "But it's a bunch faster due to numba!"
   ]
  },
  {
   "cell_type": "code",
   "execution_count": 83,
   "id": "d9e607e7-ff70-439e-9e48-e0dba72b3ad1",
   "metadata": {},
   "outputs": [
    {
     "name": "stdout",
     "output_type": "stream",
     "text": [
      "10.4 µs ± 325 ns per loop (mean ± std. dev. of 7 runs, 100,000 loops each)\n"
     ]
    }
   ],
   "source": [
    "%%timeit \n",
    "\n",
    "for i in [1, 2, 3, 4]:\n",
    "    _ = sparse_overlap(binary_embeddings[0], binary_embeddings[i])"
   ]
  },
  {
   "cell_type": "code",
   "execution_count": 63,
   "id": "d9ad5969-e8cd-4fc2-854d-4cef8b2ee51e",
   "metadata": {},
   "outputs": [
    {
     "name": "stdout",
     "output_type": "stream",
     "text": [
      "173 µs ± 2.21 µs per loop (mean ± std. dev. of 7 runs, 10,000 loops each)\n"
     ]
    }
   ],
   "source": [
    "%%timeit \n",
    "\n",
    "for i in [1, 2, 3, 4]:\n",
    "    main = np.array([binary_embeddings[0] % 2**(m+1) // 2**m for m in range(8)])\n",
    "    other = np.array([binary_embeddings[i] % 2**(m+1) // 2**m for m in range(8)])\n",
    "    _ = (main == other).sum()"
   ]
  }
 ],
 "metadata": {
  "kernelspec": {
   "display_name": "Python 3 (ipykernel)",
   "language": "python",
   "name": "python3"
  },
  "language_info": {
   "codemirror_mode": {
    "name": "ipython",
    "version": 3
   },
   "file_extension": ".py",
   "mimetype": "text/x-python",
   "name": "python",
   "nbconvert_exporter": "python",
   "pygments_lexer": "ipython3",
   "version": "3.11.4"
  }
 },
 "nbformat": 4,
 "nbformat_minor": 5
}
