{
 "cells": [
  {
   "cell_type": "code",
   "execution_count": 50,
   "id": "9dc40cec-b4e3-4e40-beb7-d23a587a6cec",
   "metadata": {},
   "outputs": [
    {
     "name": "stdout",
     "output_type": "stream",
     "text": [
      "{\n",
      "\"anger\": false,\n",
      "\"data\": true,\n",
      "\"synthetic\": false\n",
      "}\n"
     ]
    }
   ],
   "source": [
    "import os\n",
    "\n",
    "from groq import Groq\n",
    "\n",
    "client = Groq(\n",
    "    api_key=\"gsk_...\",\n",
    ")\n",
    "\n",
    "labels = {\n",
    "    \"anger\": \"This is true if the user displays a clear anger emotion\",\n",
    "    \"data\": \"This indicates if the abstract introduces a new dataset\",\n",
    "    \"synthetic\": \"This indicates if the paper is working with synthetic data\"\n",
    "}\n",
    "\n",
    "\n",
    "label_descr = \"\\n\".join([f\"- {name}: {desc}\" for name, desc in labels.items()])\n",
    "\n",
    "chat_completion = client.chat.completions.create(\n",
    "    messages=[\n",
    "        {\n",
    "            \"role\": \"user\",\n",
    "            \"content\": f\"Here are my label descriptions {label_descr}. Respond in json. Generate the boolean tags for this text: 'Our paper introduces a new dataset'\",\n",
    "        }\n",
    "    ],\n",
    "    model=\"mixtral-8x7b-32768\",\n",
    ")\n",
    "\n",
    "print(chat_completion.choices[0].message.content)"
   ]
  },
  {
   "cell_type": "code",
   "execution_count": 85,
   "id": "eaddc20d-33a9-43b1-99fc-096afe8fd8c9",
   "metadata": {},
   "outputs": [],
   "source": [
    "from hashlib import md5"
   ]
  },
  {
   "cell_type": "code",
   "execution_count": 103,
   "id": "963b8925-b7cd-4e74-aa24-4e1018a1d0a2",
   "metadata": {},
   "outputs": [],
   "source": [
    "import json\n",
    "\n",
    "class GroqTagger:\n",
    "    def __init__(self, client, model=\"mixtral-8x7b-32768\", **tags):\n",
    "        \"\"\"TODO:\n",
    "        - add some sort of sqlite cache\n",
    "        - name of each table/file should be {model}-{prompt_hash}\n",
    "        - each key should be the text that goes in\n",
    "        \"\"\"\n",
    "        self.client = client\n",
    "        self.model = model\n",
    "        self.tags = tags\n",
    "\n",
    "    def _hash(self, thing):\n",
    "        if isinstance(thing, str):\n",
    "            string = thing\n",
    "        if isinstance(thing, dict):\n",
    "            string = \"\".join([f\"{k}:{v}\" for k, v in dict.items()])\n",
    "        return md5(string.encode(\"utf-8\")).hexdigets()\n",
    "        \n",
    "    @property\n",
    "    def cache_name(self):\n",
    "        return f\"{self.model}-{self._hash(self.tags)}\"\n",
    "\n",
    "    def __call__(self, text: str):\n",
    "        chat_completion = client.chat.completions.create(\n",
    "            messages=[\n",
    "                {\n",
    "                    \"role\": \"user\",\n",
    "                    \"content\": self.prompt(text),\n",
    "                }\n",
    "            ],\n",
    "            model=self.model,\n",
    "        )\n",
    "        return json.loads(chat_completion.choices[0].message.content.replace(\"\\n\", \"\"))\n",
    "    \n",
    "    def prompt(self, text:str):\n",
    "        label_descr = \"\\n\".join([f\"- {name}: {desc}\" for name, desc in self.tags.items()])\n",
    "        foreword = f\"You are an expert tagging system tasked with assinging tags to text. Here are my label descriptions:\\n{label_descr}\\nRespond in json. Generate the boolean tags for this text:\\n\"\n",
    "        return f\"{foreword}'{text}'\"\n",
    "\n",
    "tagger = GroqTagger(client, **labels)"
   ]
  },
  {
   "cell_type": "code",
   "execution_count": 104,
   "id": "4cc46f37-6b2c-4ccc-b794-7ef66f4bf8d1",
   "metadata": {},
   "outputs": [
    {
     "name": "stdout",
     "output_type": "stream",
     "text": [
      "You are an expert tagging system tasked with assinging tags to text. Here are my label descriptions:\n",
      "- anger: This is true if the user displays a clear anger emotion\n",
      "- data: This indicates if the abstract introduces a new dataset\n",
      "- synthetic: This indicates if the paper is working with synthetic data\n",
      "Respond in json. Generate the boolean tags for this text:\n",
      "''\n"
     ]
    }
   ],
   "source": [
    "print(tagger.prompt(\"\"))"
   ]
  },
  {
   "cell_type": "code",
   "execution_count": 105,
   "id": "a7a8fda7-c050-4460-aeda-c1e569dba8b2",
   "metadata": {},
   "outputs": [
    {
     "data": {
      "text/plain": [
       "{'anger': False, 'data': True, 'synthetic': True}"
      ]
     },
     "execution_count": 105,
     "metadata": {},
     "output_type": "execute_result"
    }
   ],
   "source": [
    "tagger(\"this paper will talk about a new model trained a new synthetic dataset\")"
   ]
  }
 ],
 "metadata": {
  "kernelspec": {
   "display_name": "Python 3 (ipykernel)",
   "language": "python",
   "name": "python3"
  },
  "language_info": {
   "codemirror_mode": {
    "name": "ipython",
    "version": 3
   },
   "file_extension": ".py",
   "mimetype": "text/x-python",
   "name": "python",
   "nbconvert_exporter": "python",
   "pygments_lexer": "ipython3",
   "version": "3.11.6"
  }
 },
 "nbformat": 4,
 "nbformat_minor": 5
}
